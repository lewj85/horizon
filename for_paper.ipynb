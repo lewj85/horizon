{
 "cells": [
  {
   "cell_type": "code",
   "execution_count": 1,
   "id": "d12ad8ad",
   "metadata": {},
   "outputs": [],
   "source": [
    "import json\n",
    "import numpy as np\n",
    "import matplotlib.pyplot as plt\n",
    "import random\n",
    "\n",
    "%matplotlib inline"
   ]
  },
  {
   "cell_type": "code",
   "execution_count": 2,
   "id": "044041ca",
   "metadata": {},
   "outputs": [],
   "source": [
    "files = [\n",
    "    \"dicts/normalized_encoded_horizon_dict_window90_bands30_odds3.json\",\n",
    "    \"dicts/normalized_encoded_horizon_dict_window90_bands30_random_seed42.json\",\n",
    "    \"dicts/normalized_encoded_horizon_dict_window90_bands45_odds3.json\",\n",
    "    \"dicts/normalized_encoded_horizon_dict_window90_bands45_random_seed42.json\",\n",
    "    \"dicts/normalized_encoded_horizon_dict_window90_bands60_odds3.json\",\n",
    "    \"dicts/normalized_encoded_horizon_dict_window90_bands60_random_seed42.json\"\n",
    "]"
   ]
  },
  {
   "cell_type": "code",
   "execution_count": 3,
   "id": "f9190af2",
   "metadata": {},
   "outputs": [
    {
     "name": "stdout",
     "output_type": "stream",
     "text": [
      "dicts/normalized_encoded_horizon_dict_window90_bands30_odds3.json\n",
      "47720\n",
      "360000\n",
      "average: 7.5440067057837386\n",
      "\n",
      "dicts/normalized_encoded_horizon_dict_window90_bands30_random_seed42.json\n",
      "47032\n",
      "360000\n",
      "average: 7.654362986902535\n",
      "\n",
      "dicts/normalized_encoded_horizon_dict_window90_bands45_odds3.json\n",
      "146732\n",
      "360000\n",
      "average: 2.453452552953684\n",
      "\n",
      "dicts/normalized_encoded_horizon_dict_window90_bands45_random_seed42.json\n",
      "123765\n",
      "360000\n",
      "average: 2.9087383347473033\n",
      "\n",
      "dicts/normalized_encoded_horizon_dict_window90_bands60_odds3.json\n",
      "225373\n",
      "360000\n",
      "average: 1.5973519454415568\n",
      "\n",
      "dicts/normalized_encoded_horizon_dict_window90_bands60_random_seed42.json\n",
      "206177\n",
      "360000\n",
      "average: 1.746072549314424\n",
      "\n"
     ]
    }
   ],
   "source": [
    "for fi in files:\n",
    "    with open(fi) as f:\n",
    "        data = json.load(f)\n",
    "    total_keys = 0\n",
    "    total_values = 0\n",
    "    for k,v in data.items():\n",
    "        total_keys += 1\n",
    "        total_values += len(v)\n",
    "    print(fi)\n",
    "    print(total_keys)\n",
    "    print(total_values)\n",
    "    print('average:', total_values/total_keys)\n",
    "    print()"
   ]
  },
  {
   "cell_type": "code",
   "execution_count": 4,
   "id": "cd4b4021",
   "metadata": {},
   "outputs": [
    {
     "data": {
      "image/png": "[encoded data removed]",
      "text/plain": [
       "<Figure size 576x216 with 1 Axes>"
      ]
     },
     "metadata": {
      "needs_background": "light"
     },
     "output_type": "display_data"
    }
   ],
   "source": [
    "fig = plt.figure(figsize=(8,3))\n",
    "plt.gcf().subplots_adjust(bottom=0.15)\n",
    "window_size = 90\n",
    "bands = 45\n",
    "x = [int(x) for x in np.linspace(0, window_size, bands, endpoint=False)]\n",
    "odds3 = [0.1, 0.7, 0.3, 0.9]*(bands//4)\n",
    "odds3 += odds3[:bands%4]\n",
    "plt.plot(x,odds3,\".\")\n",
    "plt.title(\"Deterministic thresholds over 45 bands and 90° FoV\")\n",
    "plt.ylim(0,1)\n",
    "plt.ylabel(\"Threshold\")\n",
    "plt.xlabel(\"FoV degrees\")\n",
    "plt.savefig(\"images/thresholds_deterministic.png\")\n",
    "plt.show()"
   ]
  },
  {
   "cell_type": "code",
   "execution_count": 5,
   "id": "12b85cd1",
   "metadata": {},
   "outputs": [
    {
     "data": {
      "image/png": "[encoded data removed]",
      "text/plain": [
       "<Figure size 576x216 with 1 Axes>"
      ]
     },
     "metadata": {
      "needs_background": "light"
     },
     "output_type": "display_data"
    }
   ],
   "source": [
    "seed = 42\n",
    "# generate the thresholds\n",
    "random.seed(seed)\n",
    "thresholds = [random.random() for i in range(bands)] # instead of range(window_size)\n",
    "#thresholds = np.asarray(thresholds)\n",
    "#thresholds *= 0.9 # to leave wiggle room at the top since we're doing \"> threshold\"\n",
    "random.seed(seed)\n",
    "indices = random.sample(range(window_size), bands)\n",
    "\n",
    "fig = plt.figure(figsize=(8,3))\n",
    "plt.gcf().subplots_adjust(bottom=0.15)\n",
    "plt.plot(indices,thresholds,\".\")\n",
    "plt.title(\"Random thresholds over 45 bands and 90° FoV\")\n",
    "plt.ylim(0,1)\n",
    "plt.ylabel(\"Threshold\")\n",
    "plt.xlabel(\"FoV degrees\")\n",
    "plt.savefig(\"images/thresholds_random.png\")\n",
    "plt.show()"
   ]
  }
 ],
 "metadata": {
  "kernelspec": {
   "display_name": "Python 3 (ipykernel)",
   "language": "python",
   "name": "python3"
  },
  "language_info": {
   "codemirror_mode": {
    "name": "ipython",
    "version": 3
   },
   "file_extension": ".py",
   "mimetype": "text/x-python",
   "name": "python",
   "nbconvert_exporter": "python",
   "pygments_lexer": "ipython3",
   "version": "3.8.13"
  }
 },
 "nbformat": 4,
 "nbformat_minor": 5
}
